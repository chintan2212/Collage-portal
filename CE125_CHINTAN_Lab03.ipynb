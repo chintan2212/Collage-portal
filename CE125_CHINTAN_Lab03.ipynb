{
 "metadata": {
  "language_info": {
   "codemirror_mode": {
    "name": "ipython",
    "version": 3
   },
   "file_extension": ".py",
   "mimetype": "text/x-python",
   "name": "python",
   "nbconvert_exporter": "python",
   "pygments_lexer": "ipython3",
   "version": "3.9.1-final"
  },
  "orig_nbformat": 2,
  "kernelspec": {
   "name": "python3",
   "display_name": "Python 3.9.1 64-bit",
   "metadata": {
    "interpreter": {
     "hash": "c35fe833184df74f19e58726c274d9ff91e9879903faee839418c028e35cc088"
    }
   }
  }
 },
 "nbformat": 4,
 "nbformat_minor": 2,
 "cells": [
  {
   "cell_type": "code",
   "execution_count": 4,
   "metadata": {},
   "outputs": [
    {
     "output_type": "stream",
     "name": "stdout",
     "text": [
      "this : 1\nis : 1\nchintan : 1\nsolanki. : 1\n"
     ]
    }
   ],
   "source": [
    "#(1) Write a program to read a text file and find unique words with their occurrences an display tabular form the analysis.\n",
    "file = open(\"example.txt\",\"r\")\n",
    "dictionary = dict()\n",
    "for line in file:\n",
    "    words=line.split(\" \")\n",
    "    for word in words:\n",
    "        if word in dictionary:\n",
    "            dictionary[word]=dictionary[word]+1\n",
    "        else:\n",
    "            dictionary[word]=1\n",
    "for key in list(dictionary.keys()):\n",
    "    print(key,\":\",dictionary[key])"
   ]
  },
  {
   "cell_type": "code",
   "execution_count": 5,
   "metadata": {},
   "outputs": [
    {
     "output_type": "error",
     "ename": "FileNotFoundError",
     "evalue": "[Errno 2] No such file or directory: 'sample.c'",
     "traceback": [
      "\u001b[1;31m---------------------------------------------------------------------------\u001b[0m",
      "\u001b[1;31mFileNotFoundError\u001b[0m                         Traceback (most recent call last)",
      "\u001b[1;32m<ipython-input-5-b23a35aec1c5>\u001b[0m in \u001b[0;36m<module>\u001b[1;34m\u001b[0m\n\u001b[0;32m      1\u001b[0m \u001b[1;31m#(2) Write a program which reads a sample C Program file as input, stores the content to the another file without any single line comments within.\u001b[0m\u001b[1;33m\u001b[0m\u001b[1;33m\u001b[0m\u001b[1;33m\u001b[0m\u001b[0m\n\u001b[1;32m----> 2\u001b[1;33m \u001b[1;32mwith\u001b[0m \u001b[0mopen\u001b[0m\u001b[1;33m(\u001b[0m\u001b[1;34m'sample.c'\u001b[0m\u001b[1;33m,\u001b[0m\u001b[1;34m'r'\u001b[0m\u001b[1;33m)\u001b[0m \u001b[1;32mas\u001b[0m \u001b[0mfile\u001b[0m\u001b[1;33m:\u001b[0m\u001b[1;33m\u001b[0m\u001b[1;33m\u001b[0m\u001b[0m\n\u001b[0m\u001b[0;32m      3\u001b[0m     \u001b[0minput\u001b[0m\u001b[1;33m=\u001b[0m\u001b[0mfile\u001b[0m\u001b[1;33m.\u001b[0m\u001b[0mreadlines\u001b[0m\u001b[1;33m(\u001b[0m\u001b[1;33m)\u001b[0m\u001b[1;33m\u001b[0m\u001b[1;33m\u001b[0m\u001b[0m\n\u001b[0;32m      4\u001b[0m \u001b[0mdata\u001b[0m\u001b[1;33m=\u001b[0m\u001b[1;33m[\u001b[0m\u001b[1;33m]\u001b[0m\u001b[1;33m\u001b[0m\u001b[1;33m\u001b[0m\u001b[0m\n\u001b[0;32m      5\u001b[0m \u001b[1;32mfor\u001b[0m \u001b[0mline\u001b[0m \u001b[1;32min\u001b[0m \u001b[0minput\u001b[0m\u001b[1;33m:\u001b[0m\u001b[1;33m\u001b[0m\u001b[1;33m\u001b[0m\u001b[0m\n",
      "\u001b[1;31mFileNotFoundError\u001b[0m: [Errno 2] No such file or directory: 'sample.c'"
     ]
    }
   ],
   "source": [
    "#(2) Write a program which reads a sample C Program file as input, stores the content to the another file without any single line comments within.\n",
    "with open('sample.c','r') as file:\n",
    "    input=file.readlines()\n",
    "data=[]\n",
    "for line in input:\n",
    "    location=line.find('//')\n",
    "    if location >= 0:\n",
    "        line=line[0:location].strip()\n",
    "    if line != '':\n",
    "        data.append(line)\n",
    "with open('result.c','w') as file:\n",
    "    file.writelines(data)"
   ]
  },
  {
   "cell_type": "code",
   "execution_count": 11,
   "metadata": {},
   "outputs": [],
   "source": [
    "#(3) Store students' records to a file named students.csv. Know that record contains following information\n",
    "#  <student_id, name, age, percentage>.\n",
    "#    '.csv' format contains comma-separated values of record line by line.\n",
    "import csv\n",
    "with open('students.csv','w') as file:\n",
    "    writer = csv.writer(file)\n",
    "    writer.writerow(['16515', 'abc', '19', '70'])\n",
    "    writer.writerow(['5161563', 'xyz', '19', '80'])\n",
    "    writer.writerow(['95465', 'pqr', '20', '90'])\n",
    "    writer.writerow(['95623', 'mno', '20', '100'])"
   ]
  },
  {
   "cell_type": "code",
   "execution_count": 12,
   "metadata": {},
   "outputs": [
    {
     "output_type": "stream",
     "name": "stdout",
     "text": [
      "Student Id, Name, Age, percentage \n\n16515, abc, 19, 70\n\n5161563, xyz, 19, 80\n\n95465, pqr, 20, 90\n\n95623, mno, 20, 100\n\n"
     ]
    }
   ],
   "source": [
    "#(4) Read file students.csv and display tabular form students records. Also, count and at the end display total how many students are recorded in the file (count).\n",
    "import csv\n",
    "print(\"Student Id, Name, Age, percentage \\n\")\n",
    "with open('students.csv','r') as file:\n",
    "    read=csv.reader(file)\n",
    "    for row in read:\n",
    "        print(\", \".join(row))"
   ]
  }
 ]
}