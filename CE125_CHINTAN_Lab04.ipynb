{
 "metadata": {
  "language_info": {
   "codemirror_mode": {
    "name": "ipython",
    "version": 3
   },
   "file_extension": ".py",
   "mimetype": "text/x-python",
   "name": "python",
   "nbconvert_exporter": "python",
   "pygments_lexer": "ipython3",
   "version": "3.9.1-final"
  },
  "orig_nbformat": 2,
  "kernelspec": {
   "name": "python3",
   "display_name": "Python 3.9.1 64-bit",
   "metadata": {
    "interpreter": {
     "hash": "c35fe833184df74f19e58726c274d9ff91e9879903faee839418c028e35cc088"
    }
   }
  }
 },
 "nbformat": 4,
 "nbformat_minor": 2,
 "cells": [
  {
   "cell_type": "code",
   "execution_count": 3,
   "metadata": {},
   "outputs": [
    {
     "output_type": "stream",
     "name": "stdout",
     "text": [
      "2\n"
     ]
    }
   ],
   "source": [
    "#1.Create a class Counter having one member variable count. Initialize it with zero with creation of each object and also write member method countUp to increase the value of count by one with every method call.\n",
    "class Counter:\n",
    "    def __init__(self):\n",
    "        self.count=0\n",
    "    def countUp(self):\n",
    "        self.count=self.count+1"
   ]
  },
  {
   "cell_type": "code",
   "execution_count": 3,
   "metadata": {},
   "outputs": [
    {
     "output_type": "stream",
     "name": "stdout",
     "text": [
      "1\n"
     ]
    }
   ],
   "source": [
    "#2.Import above module(consider that Counter class is defined in file P1.py) and derive a class CountDown from Counter class with one more method countDown to decrease a value of count by one with every method call.\n",
    "from P1 import Counter\n",
    "class CountDown(Counter):\n",
    "    def __init__(self):\n",
    "        super().__init__()\n",
    "    def countDown(self):\n",
    "        self.count=self.count-1"
   ]
  },
  {
   "cell_type": "code",
   "execution_count": 5,
   "metadata": {},
   "outputs": [
    {
     "output_type": "stream",
     "name": "stdout",
     "text": [
      "2\n1\n"
     ]
    }
   ],
   "source": [
    "#3.In above program override countUp method to increase the value of count by 2 with each method call.\n",
    "from P1 import Counter\n",
    "class CountDown(Counter):\n",
    "    def __init__(self):\n",
    "        super().__init__()\n",
    "    def countDown(self):\n",
    "        self.count=self.count-1\n",
    "    def countUp(self):\n",
    "        self.count=self.count+2"
   ]
  },
  {
   "cell_type": "code",
   "execution_count": 12,
   "metadata": {},
   "outputs": [
    {
     "output_type": "stream",
     "name": "stdout",
     "text": [
      "False\nTrue\nFalse\n"
     ]
    }
   ],
   "source": [
    "#4.Create class exam having three member variable to store the marks of three subject. Overload <, > and = operator to compare two object of Exam class based on total marks. Also write executable statements to test Exam class.\n",
    "class exam:\n",
    "    def __init__(self,mark1,mark2,mark3):\n",
    "        self.mark1=mark1\n",
    "        self.mark2=mark2\n",
    "        self.mark3=mark3\n",
    "    def __lt__(self,other):\n",
    "        if((self.mark1+self.mark2+self.mark3)<(other.mark1+other.mark2+other.mark3)):\n",
    "            return True\n",
    "        else:\n",
    "            return False\n",
    "    def __gt__(self,other):\n",
    "        if((self.mark1+self.mark2+self.mark3)>(other.mark1+other.mark2+other.mark3)):\n",
    "            return True\n",
    "        else:\n",
    "            return False\n",
    "    def __eq__(self,other):\n",
    "        if((self.mark1+self.mark2+self.mark3)==(other.mark1+other.mark2+other.mark3)):\n",
    "            return True\n",
    "        else:\n",
    "            return False\n",
    "obj1=exam(50,60,70)\n",
    "obj2=exam(60,70,80)\n",
    "print(obj1>obj2)\n",
    "print(obj1<obj2)\n",
    "print(obj1==obj2)"
   ]
  },
  {
   "cell_type": "code",
   "execution_count": 5,
   "metadata": {},
   "outputs": [
    {
     "output_type": "stream",
     "name": "stdout",
     "text": [
      "10\n25\n3\n4.0\n"
     ]
    }
   ],
   "source": [
    "#Create a package Calculator having four files add.py, sub.py, mul.py and div.py with functions to perform addition, subtraction, multiplication and division respectively. Import Calculator package in your code and implement simple calculator.\n",
    "import Calculator\n",
    "print(Calculator.add(5,5))\n",
    "print(Calculator.mul(5,5))\n",
    "print(Calculator.sub(10,7))\n",
    "print(Calculator.div(20,5))"
   ]
  },
  {
   "cell_type": "code",
   "execution_count": null,
   "metadata": {},
   "outputs": [],
   "source": []
  }
 ]
}