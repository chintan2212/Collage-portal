{
  "nbformat": 4,
  "nbformat_minor": 0,
  "metadata": {
    "colab": {
      "name": "Untitled1.ipynb",
      "provenance": [],
      "collapsed_sections": []
    },
    "kernelspec": {
      "name": "python3",
      "display_name": "Python 3"
    }
  },
  "cells": [
    {
      "cell_type": "code",
      "metadata": {
        "id": "TGvRP8tsPzvv"
      },
      "source": [
        "#Write a program which accepts a number from user and display that number if and only if it is positive value.\r\n",
        "number=input(\"enter value :\")\r\n",
        "if int(number)>0:\r\n",
        "  print(number)"
      ],
      "execution_count": null,
      "outputs": []
    },
    {
      "cell_type": "code",
      "metadata": {
        "id": "xE5dQqXpSEg7"
      },
      "source": [
        "#Write a program which accepts average marks of student and if average is greater than 40 then it will display a message \r\n",
        "#“Congratulation!!! You pass this exam successfully” else it will display “Sorry!!! Better luck next time”.\r\n",
        "avrg=input(\"Enter your average marks :\")\r\n",
        "if int(avrg)>40:\r\n",
        "  print(\"Congratulation!!! You pass this exam successfully\")\r\n",
        "else:\r\n",
        "  print(\"Sorry!!! Better luck next time\")"
      ],
      "execution_count": null,
      "outputs": []
    },
    {
      "cell_type": "code",
      "metadata": {
        "id": "Y7Jkdn_dTzEa"
      },
      "source": [
        "#Write a program which accepts marks of five subject and based on average of those marks it will display appropriate grade.\r\n",
        "i=0\r\n",
        "sum=0\r\n",
        "while i<5:\r\n",
        "  marks=int(input())\r\n",
        "  sum=sum+marks\r\n",
        "  i=i+1\r\n",
        "avrg=sum/5\r\n",
        "if int(avrg)>90:\r\n",
        "  print(\"grade A\")\r\n",
        "elif int(avrg)>80 and int(avrg)<91:\r\n",
        "  print(\"grade B\")\r\n",
        "elif int(avrg)>70 and int(avrg)<81:\r\n",
        "  print(\"grade C\")\r\n",
        "elif int(avrg)>50 and int(avrg)<71:\r\n",
        "  print(\"grade D\")\r\n",
        "elif int(avrg)<50:\r\n",
        "  print(\"grade E\")"
      ],
      "execution_count": null,
      "outputs": []
    },
    {
      "cell_type": "code",
      "metadata": {
        "id": "8oPpB4iuYsZT"
      },
      "source": [
        "#Write a program to find largest number out of three numbers entered by user.\r\n",
        "i=0\r\n",
        "max=0\r\n",
        "while i<3:\r\n",
        "  number=int(input())\r\n",
        "  if number>max:\r\n",
        "    max=number\r\n",
        "  i=i+1\r\n",
        "print(\"highest number is: \",max)"
      ],
      "execution_count": null,
      "outputs": []
    },
    {
      "cell_type": "code",
      "metadata": {
        "id": "B3i9k5gjA60H"
      },
      "source": [
        "#Check the output of following code(1) and try to justify the output:\r\n",
        "a=-5\r\n",
        "if a>0:\r\n",
        "  if a%2==0:\r\n",
        "    print(str(a)+\" is positive even number\")\r\n",
        "else:\r\n",
        "  print(str(a)+\" is negative number\")\r\n",
        "\r\n",
        "#the output of the following code will always be -5 is a negative number because in the very first line of code a is assigned value -5 so it will enter the\r\n",
        "#else part of outer if block and execute the statements in else part."
      ],
      "execution_count": null,
      "outputs": []
    },
    {
      "cell_type": "code",
      "metadata": {
        "id": "AVu8wgfgCQZv"
      },
      "source": [
        "#Check the output of following code(2) and try to justify the output:\r\n",
        "a=5\r\n",
        "if a>0:\r\n",
        "  if a%2==0:\r\n",
        "    print(str(a)+\" is positive even number\")\r\n",
        "else:\r\n",
        "  print(str(a)+\" is negative number\")\r\n",
        "\r\n",
        "#the following code will always terminate without any output because a is assigned value 5 which is >0 so it will enter the outermost if block then it\r\n",
        "#will check for the inner if block condition which is false and there is no else block for the inner if block hence the programme will terminate."
      ],
      "execution_count": 8,
      "outputs": []
    },
    {
      "cell_type": "code",
      "metadata": {
        "id": "ThXIJ-IEDHco"
      },
      "source": [
        "#For the below elements, print binary of modulo 64 (remainder) result.(Hint: Use function bin and operator %).\r\n",
        "print(\"1111 \" + str(1111%64) + \" \" + bin(1111%64))\r\n",
        "print(\"3333 \" + str(3333%64) + \" \" + bin(3333%64))\r\n",
        "print(\"1235 \" + str(1235%64) + \" \" + bin(1235%64))\r\n",
        "print(\"2378 \" + str(2378%64) + \" \" + bin(2378%64))\r\n",
        "print(\"1212 \" + str(1212%64) + \" \" + bin(1212%64))\r\n",
        "print(\"1456 \" + str(1456%64) + \" \" + bin(1456%64))\r\n",
        "print(\"2134 \" + str(2134%64) + \" \" + bin(2134%64))\r\n",
        "print(\"2345 \" + str(2345%64) + \" \" + bin(2345%64))\r\n",
        "print(\"1111 \" + str(1111%64) + \" \" + bin(1111%64))\r\n",
        "print(\"8231 \" + str(8231%64) + \" \" + bin(8231%64))\r\n",
        "print(\"2222 \" + str(2222%64) + \" \" + bin(2222%64))\r\n",
        "print(\"9999 \" + str(9999%64) + \" \" + bin(9999%64))"
      ],
      "execution_count": null,
      "outputs": []
    },
    {
      "cell_type": "code",
      "metadata": {
        "id": "O5iMPSA0FilX"
      },
      "source": [
        "#Write a program to check whether entered number is prime or not.\r\n",
        "num = int(input())\r\n",
        "if num > 1:\r\n",
        "   for i in range(2,num):\r\n",
        "       if (num % i) == 0:\r\n",
        "           print(\"non-prime number\")\r\n",
        "           break\r\n",
        "   else:\r\n",
        "       print(\"prime number\")\r\n",
        "else:\r\n",
        "   print(\"non-prime number\")"
      ],
      "execution_count": null,
      "outputs": []
    },
    {
      "cell_type": "code",
      "metadata": {
        "id": "XMHW7lg8Iv2N"
      },
      "source": [
        "#Write a program to display armstrong numbers between 1 to n.(where value of n will be provided by user).\r\n",
        "n=int(input())  \r\n",
        "for num in range(1,n):  \r\n",
        "  sum=0  \r\n",
        "  temp=num  \r\n",
        "  while temp > 0:  \r\n",
        "    digit=temp%10  \r\n",
        "    sum+=digit**3  \r\n",
        "    temp//=10  \r\n",
        "    if num==sum:  \r\n",
        "      print(num)  "
      ],
      "execution_count": null,
      "outputs": []
    }
  ]
}