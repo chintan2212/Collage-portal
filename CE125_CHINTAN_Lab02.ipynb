{
 "metadata": {
  "language_info": {
   "codemirror_mode": {
    "name": "ipython",
    "version": 3
   },
   "file_extension": ".py",
   "mimetype": "text/x-python",
   "name": "python",
   "nbconvert_exporter": "python",
   "pygments_lexer": "ipython3",
   "version": "3.9.1-final"
  },
  "orig_nbformat": 2,
  "kernelspec": {
   "name": "python3",
   "display_name": "Python 3.9.1 64-bit",
   "metadata": {
    "interpreter": {
     "hash": "c35fe833184df74f19e58726c274d9ff91e9879903faee839418c028e35cc088"
    }
   }
  }
 },
 "nbformat": 4,
 "nbformat_minor": 2,
 "cells": [
  {
   "cell_type": "code",
   "execution_count": 3,
   "metadata": {},
   "outputs": [
    {
     "output_type": "stream",
     "name": "stdout",
     "text": [
      "ramu\nshyamu\nkanu\nmanu\nramu\nradha\nmanu\n"
     ]
    }
   ],
   "source": [
    "#Write a program that stores following names in a list.Also write instruction to iteratively print names from the list.\n",
    "list_names=['ramu','shyamu','kanu','manu','ramu','radha','manu']\n",
    "for i in range(0,7):\n",
    "    print(list_names[i])"
   ]
  },
  {
   "cell_type": "code",
   "execution_count": 5,
   "metadata": {},
   "outputs": [
    {
     "output_type": "stream",
     "name": "stdout",
     "text": [
      "['ramu', 'shyamu', 'kanu', 'manu', 'radha']\n"
     ]
    }
   ],
   "source": [
    "#Write a program to remove duplicates from the list (created in Ex:(1)) and print unique names.\n",
    "list_names=['ramu','shyamu','kanu','manu','ramu','radha','manu']\n",
    "res = [] \n",
    "for i in list_names: \n",
    "    if i not in res: \n",
    "        res.append(i) \n",
    "print(res) "
   ]
  },
  {
   "cell_type": "code",
   "execution_count": 6,
   "metadata": {},
   "outputs": [],
   "source": [
    "#Write a program to create a record of student details. The record maintains following information < student_id, name, age, percentage>.\n",
    "student_record=[[1, 'ram', '18', '65%'],[2, 'shyam', '17', '70%']]\n",
    "student_record.append([3, 'Radha', '17', '75%'])"
   ]
  },
  {
   "cell_type": "code",
   "execution_count": 3,
   "metadata": {},
   "outputs": [
    {
     "output_type": "stream",
     "name": "stdout",
     "text": [
      "{'sem1': [1, 'Ram', 18, 65], 'sem2': [2, 'shyam', 17, 70], 'sem 5': [5, 'radha', 17, 75]}\n"
     ]
    }
   ],
   "source": [
    "#Write a program to concat student records (created in (3)) of different semesters.\n",
    "student_record = {'sem1' : [1, 'Ram', 18, 65], 'sem2' : [2, 'shyam', 17, 70]}\n",
    "student = {'sem 5' : [5,\"radha\",17,75]}\n",
    "student_record.update(student)\n",
    "print(student_record)"
   ]
  },
  {
   "cell_type": "code",
   "execution_count": 4,
   "metadata": {},
   "outputs": [
    {
     "output_type": "execute_result",
     "data": {
      "text/plain": [
       "{'record1': [1, 'ram', 18, 65],\n",
       " 'record2': [2, 'shyam', 17, 70],\n",
       " 'record3': [3, 'radha', 17, 75],\n",
       " 'record4': [4, 'chintan', 18, 95],\n",
       " 'record5': [5, 'noone', 17, 87]}"
      ]
     },
     "metadata": {},
     "execution_count": 4
    }
   ],
   "source": [
    "#Write a program to print record of first 5 students.\n",
    "student_record={'record1':[1, 'ram', 18, 65], 'record2':[2, 'shyam', 17, 70],'record3': [3, 'radha', 17, 75],'record4':[4,'chintan',18,95],'record5':[5,'noone',17,87]}\n",
    "student_record"
   ]
  },
  {
   "cell_type": "code",
   "execution_count": 6,
   "metadata": {},
   "outputs": [
    {
     "output_type": "execute_result",
     "data": {
      "text/plain": [
       "{'record2': [2, 'shyam', 17, 70],\n",
       " 'record3': [3, 'radha', 17, 75],\n",
       " 'record4': [4, 'chintan', 18, 95],\n",
       " 'record5': [5, 'noone', 17, 87]}"
      ]
     },
     "metadata": {},
     "execution_count": 6
    }
   ],
   "source": [
    "#Write a program to delete record of a specific student (e.g. ramu).\n",
    "student_record={'record1':[1, 'ramu', 18, 65], 'record2':[2, 'shyam', 17, 70],'record3': [3, 'radha', 17, 75],'record4':[4,'chintan',18,95],'record5':[5,'noone',17,87]}\n",
    "student_record\n",
    "student_record.pop('record1')\n",
    "student_record"
   ]
  },
  {
   "cell_type": "code",
   "execution_count": 10,
   "metadata": {},
   "outputs": [
    {
     "output_type": "execute_result",
     "data": {
      "text/plain": [
       "{'ram': 65, 'shyam': 75, 'radha': 70, 'gopi': 60}"
      ]
     },
     "metadata": {},
     "execution_count": 10
    }
   ],
   "source": [
    "#Write a program to combine following dictionaries by averaging values for common keys.\n",
    "D1 = {'ram':60, 'shyam':70, 'radha':70}\n",
    "D2 = {'ram':70, 'shyam':80, 'gopi':60}\n",
    "D3=dict(D1)\n",
    "D3.update(D2)\n",
    "for i,j in D1.items():\n",
    "  for a,b in D2.items():\n",
    "    if i==a:\n",
    "      D3[i]=(j+b)//int(2)\n",
    "D3"
   ]
  },
  {
   "cell_type": "code",
   "execution_count": 19,
   "metadata": {},
   "outputs": [
    {
     "output_type": "stream",
     "name": "stdout",
     "text": [
      "['gopi', 'khushi', 'radha', 'ram', 'shyam']\n"
     ]
    }
   ],
   "source": [
    "#Write a program to sort student record by values (e.g. name).\n",
    "student_record={'ram':60, 'shyam':56, 'radha':78, 'gopi':67, 'khushi':80}\n",
    "print(sorted(student_record))"
   ]
  },
  {
   "cell_type": "code",
   "execution_count": 15,
   "metadata": {},
   "outputs": [
    {
     "output_type": "stream",
     "name": "stdout",
     "text": [
      "Unique values :  {'S005', 'S001', 'S009', 'S007', 'S002'}\n"
     ]
    }
   ],
   "source": [
    "#Write a program to print all unique values in a dictionary.\n",
    "a=[{\"V\":\"S001\"}, {\"V\": \"S002\"}, {\"VI\": \"S001\"}, {\"VI\": \"S005\"}, {\"VII\":\"S005\"}, {\"V\":\"S009\"},{\"VIII\":\"S007\"}] \n",
    "unique=set(j for i in a for j in i.values())\n",
    "print(\"Unique values : \",unique) "
   ]
  },
  {
   "cell_type": "code",
   "execution_count": 16,
   "metadata": {},
   "outputs": [
    {
     "output_type": "stream",
     "name": "stdout",
     "text": [
      "Maths and Physics:  {9, 2}\nPhysics and Chemistry:  {9}\nMaths and Chemistry:  {1, 3, 5, 9}\nMaths and Physics and Chemistry:  {9}\nMaths or Physics or Chemistry:  {7} , {4, 6} , set()\n"
     ]
    }
   ],
   "source": [
    "#Following are the lists of students studying Maths, Physics and Chemistry subjects,\n",
    "Maths = {1, 2, 3, 5, 7, 9}\n",
    "Physics = { 2, 4, 6, 9}\n",
    "Chemistry = {1, 3, 5, 9}\n",
    "#Display the numbers which are studying both maths & physics, physics &\n",
    "#chemistry, maths&chemistry and all three. Also, display the numbers which are\n",
    "#studying exactly one of the three subjects.\n",
    "print(\"Maths and Physics: \",Maths.intersection(Physics))\n",
    "print(\"Physics and Chemistry: \",Physics.intersection(Chemistry))\n",
    "print(\"Maths and Chemistry: \",Maths.intersection(Chemistry))\n",
    "print(\"Maths and Physics and Chemistry: \",Maths.intersection(Physics).intersection(Chemistry))\n",
    "print(\"Maths or Physics or Chemistry: \",Maths.difference(Physics).difference(Chemistry),\",\", Physics.difference(Maths).difference(Chemistry),\",\", Chemistry.difference(Maths).difference(Physics))"
   ]
  },
  {
   "cell_type": "code",
   "execution_count": 2,
   "metadata": {},
   "outputs": [
    {
     "output_type": "stream",
     "name": "stdout",
     "text": [
      "X is : 50\nchanged local X to : 2\nX is now : 50\n"
     ]
    }
   ],
   "source": [
    "#1. Check the output of following code and justify your answer:\n",
    "x=50\n",
    "def func(x):\n",
    "    print('X is :', x)\n",
    "    x=2\n",
    "    print('changed local X to :', x)\n",
    "func(x)\n",
    "print('X is now :',x)\n",
    "#in this code x is initialized with value 50 outside the function and now inside the function it creates a local copy(scope limited to the function only) of the variable and copies the value of the x from outside the function but the global copy of the variable doesn't change with change in local copy so the statement 'x=2' changes value of only the local copy and from outside of the function the global x variable is accessed so it prints value as 50."
   ]
  },
  {
   "cell_type": "code",
   "execution_count": 18,
   "metadata": {},
   "outputs": [
    {
     "output_type": "stream",
     "name": "stdout",
     "text": [
      "enter three numbers :\n",
      "852\n"
     ]
    }
   ],
   "source": [
    "#2. Write a function to print largest number from provided 3 values as parameter.\n",
    "def largest(x,y,z):\n",
    "    if(x>y and x>z):\n",
    "        print(x)\n",
    "    if(y>x and y>z):\n",
    "        print(y)\n",
    "    if(z>x and z>y):\n",
    "        print(z)\n",
    "    return\n",
    "print(\"enter three numbers :\")\n",
    "x=input()\n",
    "y=input()\n",
    "z=input()\n",
    "largest(x,y,z)"
   ]
  },
  {
   "cell_type": "code",
   "execution_count": 27,
   "metadata": {},
   "outputs": [
    {
     "output_type": "stream",
     "name": "stdout",
     "text": [
      "enter lower bound and upper bound : \n"
     ]
    }
   ],
   "source": [
    "#3. Write a function to print prime numbers between provided range.\n",
    "def primetest(lb,ub):\n",
    "    for num in range(lb,ub+1):\n",
    "        if num > 1:\n",
    "            for i in range(2, num):\n",
    "                if (num % i) == 0:\n",
    "                    break\n",
    "            else:\n",
    "                print(num)\n",
    "print(\"enter lower bound and upper bound : \")\n",
    "lb=int(input())\n",
    "ub=int(input())\n",
    "primetest(lb,ub)"
   ]
  },
  {
   "cell_type": "code",
   "execution_count": 2,
   "metadata": {},
   "outputs": [
    {
     "output_type": "stream",
     "name": "stdout",
     "text": [
      "Enter num1 and num2 respectively :\n",
      "value of num1 and num2 respectively after swap :  100 50\n"
     ]
    }
   ],
   "source": [
    "#4. Write a function to swap two values provided as arguments.\n",
    "def swap(num1,num2):\n",
    "    temp=num1\n",
    "    num1=num2\n",
    "    num2=temp\n",
    "    print(\"value of num1 and num2 respectively after swap : \" ,num1,num2)\n",
    "print(\"Enter num1 and num2 respectively :\")\n",
    "num1=int(input())\n",
    "num2=int(input())\n",
    "swap(num1,num2)"
   ]
  },
  {
   "cell_type": "code",
   "execution_count": 34,
   "metadata": {},
   "outputs": [
    {
     "output_type": "stream",
     "name": "stdout",
     "text": [
      "enter principle amount :\n",
      "enter time in years :\n",
      "do you want to enter interest rate? y/n\n",
      "final amount is: 535.0\n"
     ]
    }
   ],
   "source": [
    "#Write a function to compute simple interest using provided values as arguments if rate of interest is not provided consider it as 3.5%.\n",
    "def calculateinterest(principle,time,interest=3.5):\n",
    "    final=float(principle)*float(time)*float(interest/100)\n",
    "    print(\"final amount is:\",final+float(principle))\n",
    "print(\"enter principle amount :\")\n",
    "principle=input()\n",
    "print(\"enter time in years :\")\n",
    "time=float(input())\n",
    "print(\"do you want to enter interest rate? y/n\")\n",
    "answer=input()\n",
    "if(answer=='y'):\n",
    "    print(\"enter annual interest rate :\")\n",
    "    interest=float(input())\n",
    "    calculateinterest(principle,time,interest)\n",
    "else:\n",
    "    calculateinterest(principle,time)"
   ]
  },
  {
   "cell_type": "code",
   "execution_count": 1,
   "metadata": {},
   "outputs": [
    {
     "output_type": "stream",
     "name": "stdout",
     "text": [
      "1079\n4043\n"
     ]
    }
   ],
   "source": [
    "#Write a function to compute the sum of data of variable length.\n",
    "def variable_length(*arr):\n",
    "    s=0\n",
    "    for i in range (0,len(arr)):\n",
    "        s+=arr[i]\n",
    "    print(s)\n",
    "\n",
    "variable_length(123,956)\n",
    "variable_length(323,1658,1358,552,152)"
   ]
  }
 ]
}